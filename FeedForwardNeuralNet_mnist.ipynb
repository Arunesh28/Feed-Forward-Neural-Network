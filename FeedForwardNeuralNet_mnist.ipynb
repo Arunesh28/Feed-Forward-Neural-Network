{
 "cells": [
  {
   "attachments": {},
   "cell_type": "markdown",
   "metadata": {},
   "source": [
    "<p style=\"font-size:20px; text-align:center\">CS6910 - Assignment 1</p>\n",
    "<!-- <p style=\"font-size:18px; text-align:center\">CS6910: Fundamentals of Deep Learning</p> -->"
   ]
  },
  {
   "attachments": {},
   "cell_type": "markdown",
   "metadata": {},
   "source": [
    "<p style=\"font-size:15px; text-align:\">Arunesh J B (CS20B009)</p>"
   ]
  },
  {
   "cell_type": "code",
   "execution_count": 90,
   "metadata": {},
   "outputs": [],
   "source": [
    "import numpy as np\n",
    "from keras.datasets import mnist\n",
    "import matplotlib.pyplot as plt\n",
    "import sklearn.model_selection\n",
    "from sklearn.metrics import accuracy_score,confusion_matrix,ConfusionMatrixDisplay\n",
    "import wandb\n"
   ]
  },
  {
   "attachments": {},
   "cell_type": "markdown",
   "metadata": {},
   "source": [
    "### Fashion Mnist Dataset"
   ]
  },
  {
   "cell_type": "code",
   "execution_count": 91,
   "metadata": {},
   "outputs": [],
   "source": [
    "(X, Y), (X_test, Y_test) = mnist.load_data()"
   ]
  },
  {
   "attachments": {},
   "cell_type": "markdown",
   "metadata": {},
   "source": [
    "### Question 1"
   ]
  },
  {
   "cell_type": "code",
   "execution_count": 92,
   "metadata": {},
   "outputs": [
    {
     "data": {
      "image/png": "[encoded data removed]",
      "text/plain": [
       "<Figure size 800x600 with 10 Axes>"
      ]
     },
     "metadata": {},
     "output_type": "display_data"
    }
   ],
   "source": [
    "num_classes = len(np.unique(Y))\n",
    "unique_classes = [X[np.where(Y == i)[0][0]] for i in range(num_classes)]\n",
    "class_names = [\"0\", \"1\", \"2\", \"3\", \"4\", \"5\", \"6\", \"7\", \"8\", \"9\"]\n",
    "images = []\n",
    "classes = []\n",
    "for i in range(1, num_classes+1):\n",
    "    plt.subplot(2, 5, i)\n",
    "    plt.imshow(unique_classes[i-1])\n",
    "    plt.title(class_names[i-1], fontdict={'fontsize': 7})\n",
    "plt.show()\n"
   ]
  },
  {
   "attachments": {},
   "cell_type": "markdown",
   "metadata": {},
   "source": [
    "### Data Cleaning"
   ]
  },
  {
   "cell_type": "code",
   "execution_count": 93,
   "metadata": {},
   "outputs": [
    {
     "name": "stdout",
     "output_type": "stream",
     "text": [
      "Size of Training DataSet = 54000\n",
      "Size of Validation DataSet = 6000\n",
      "Size of Test DataSet = 10000\n",
      "Number of classes = 10\n",
      "Number of features = 784\n"
     ]
    }
   ],
   "source": [
    "num_features = np.shape(X)[1]*np.shape(X)[2]\n",
    "X = X/255.0\n",
    "X_test = X_test/255.0\n",
    "X = X.reshape(np.shape(X)[0], 784)\n",
    "X_test = X_test.reshape(np.shape(X_test)[0], 784)\n",
    "X_train, Xv, Y_train, Yv = sklearn.model_selection.train_test_split(\n",
    "    X, Y, test_size=0.1, random_state=4, shuffle=True)\n",
    "print(\"Size of Training DataSet =\", len(X_train))\n",
    "print(\"Size of Validation DataSet =\", len(Xv))\n",
    "print(\"Size of Test DataSet =\", len(X_test))\n",
    "print(\"Number of classes =\", num_classes)\n",
    "print(\"Number of features =\", num_features)\n",
    "X_train = X_train.T\n",
    "Xv = Xv.T\n",
    "X_test = X_test.T\n"
   ]
  },
  {
   "attachments": {},
   "cell_type": "markdown",
   "metadata": {},
   "source": [
    "### Activation Functions"
   ]
  },
  {
   "cell_type": "code",
   "execution_count": 94,
   "metadata": {},
   "outputs": [],
   "source": [
    "def sigmoid(x):\n",
    "    return 1. /(1. + np.exp(-x))\n",
    "\n",
    "def tanh(x):\n",
    "    return np.tanh(x)\n",
    "\n",
    "def relu(x):\n",
    "    return np.maximum(0,x)\n",
    "\n",
    "def der_sigmoid(x):\n",
    "    return sigmoid(x)*(1-sigmoid(x))\n",
    "\n",
    "def der_tanh(x):\n",
    "    return 1-(np.tanh(x)**2)\n",
    "\n",
    "def der_relu(x):\n",
    "    return (x>0)*1\n",
    "\n",
    "def softmax(x):\n",
    "    \n",
    "    return (np.exp(x)/np.sum(np.exp(x),axis = 0))\n",
    "\n",
    "def der_softmax(x):\n",
    "    return softmax(x) * (1-softmax(x))"
   ]
  },
  {
   "attachments": {},
   "cell_type": "markdown",
   "metadata": {},
   "source": [
    "### Forward Propagation and Back Propagation"
   ]
  },
  {
   "cell_type": "code",
   "execution_count": 95,
   "metadata": {},
   "outputs": [],
   "source": [
    "class Parameters:\n",
    "    def __init__(self):\n",
    "        pass\n",
    "    \n",
    "    def ForwardPropagation(self,X):\n",
    "        W = self.W\n",
    "        b = self.b\n",
    "        A = [None]*len(W)\n",
    "        H = [None]*len(b)\n",
    "        for i in range(len(W)):\n",
    "            if i == 0:\n",
    "                A[i] = b[i] + W[i]@X\n",
    "            else:\n",
    "                A[i] = b[i] + W[i]@H[i-1]\n",
    "            if i == len(W) - 1:\n",
    "                H[i] = self.output_activation(A[i])\n",
    "            else:\n",
    "                H[i] = self.activation(A[i])\n",
    "        self.A = A\n",
    "        self.H = H\n",
    "    \n",
    "    def BackPropagation(self,X,Y):\n",
    "        W = self.W\n",
    "        b = self.b\n",
    "        A = self.A\n",
    "        H = self.H\n",
    "        grad_a = [None]*len(A)\n",
    "        grad_h = [None]*len(H)\n",
    "        grad_w = [None]*len(W)\n",
    "        grad_b = [None]*len(b)\n",
    "        N = len(W)\n",
    "        \n",
    "        Y_hat = H[len(H)-1]\n",
    "        grad_a[N-1] = Y_hat - Y\n",
    "        for i in range(N-1,-1,-1):\n",
    "            if i == 0:\n",
    "                grad_w[i] = grad_a[i]@X.T\n",
    "            else:\n",
    "                grad_w[i] = grad_a[i]@H[i-1].T\n",
    "            grad_b[i] = np.sum(grad_a[i],axis=1,keepdims=True)\n",
    "            if i>0 :\n",
    "                grad_h[i-1] = W[i].T@grad_a[i]\n",
    "                grad_a[i-1] = grad_h[i-1]*self.der_activation(A[i-1])\n",
    "        for i in range(N):\n",
    "            W[i] += self.weight_decay*W[i]   \n",
    "        self.grad_w = grad_w\n",
    "        self.grad_b = grad_b\n",
    "        self.W = W\n",
    "    "
   ]
  },
  {
   "attachments": {},
   "cell_type": "markdown",
   "metadata": {},
   "source": [
    "### Stochastic Gradient Descent"
   ]
  },
  {
   "cell_type": "code",
   "execution_count": 96,
   "metadata": {},
   "outputs": [],
   "source": [
    "class sgd:\n",
    "    def __init__(self):\n",
    "        pass\n",
    "    \n",
    "    def update_sgd_params(self,eta):\n",
    "        grad_w = self.params.grad_w\n",
    "        grad_b = self.params.grad_b\n",
    "        W = self.params.W\n",
    "        b = self.params.b\n",
    "        N = len(W)\n",
    "        for i in range(N):\n",
    "            W[i] = W[i] - eta*grad_w[i]\n",
    "            b[i] = b[i] - eta*grad_b[i]\n",
    "        \n",
    "    "
   ]
  },
  {
   "attachments": {},
   "cell_type": "markdown",
   "metadata": {},
   "source": [
    "### Momentum Based Gradient Descent"
   ]
  },
  {
   "cell_type": "code",
   "execution_count": 97,
   "metadata": {},
   "outputs": [],
   "source": [
    "class momentum():\n",
    "    \n",
    "    def __init__(self):\n",
    "        pass\n",
    "    \n",
    "    def updade_momentum_params(self,eta,beta):\n",
    "        grad_w = self.params.grad_w\n",
    "        grad_b = self.params.grad_b\n",
    "        W = self.params.W\n",
    "        b = self.params.b\n",
    "        u_W = self.u_params.W\n",
    "        u_b = self.u_params.b\n",
    "        N = len(grad_w)\n",
    "        for i in range(N):\n",
    "            u_W[i] = beta*u_W[i] + grad_w[i]\n",
    "            u_b[i] = beta*u_b[i] + grad_b[i]\n",
    "            W[i] = W[i] - eta*u_W[i]\n",
    "            b[i] = b[i] - eta*u_b[i]\n"
   ]
  },
  {
   "attachments": {},
   "cell_type": "markdown",
   "metadata": {},
   "source": [
    "### Nesterov Accelerated Gradient Descent"
   ]
  },
  {
   "cell_type": "code",
   "execution_count": 98,
   "metadata": {},
   "outputs": [],
   "source": [
    "class nesterov():\n",
    "    \n",
    "    def __init__(self):\n",
    "        pass\n",
    "    \n",
    "    def update_nesterov_params(self,eta,beta,X,Y):\n",
    "        W = self.params.W\n",
    "        b = self.params.b\n",
    "        u_W = self.u_params.W\n",
    "        u_b = self.u_params.b\n",
    "        g_W = self.lookahead_params.W\n",
    "        g_b = self.lookahead_params.b\n",
    "        N = len(W)\n",
    "        \n",
    "        self.params.ForwardPropagation(X)\n",
    "        self.params.BackPropagation(X,Y)\n",
    "        \n",
    "        grad_w = self.params.grad_w\n",
    "        grad_b = self.params.grad_b\n",
    "        \n",
    "        for i in range(N):\n",
    "            g_W[i] = grad_w[i]\n",
    "            g_b[i] = grad_b[i]\n",
    "        \n",
    "        \n",
    "        for i in range(N):\n",
    "            u_W[i] = beta*u_W[i] + g_W[i]\n",
    "            u_b[i] = beta*u_b[i] + g_b[i]\n",
    "            W[i] = W[i] - eta*(beta*u_W[i] + g_W[i])\n",
    "            b[i] = b[i] - eta*(beta*u_b[i] + g_b[i])\n",
    "    \n"
   ]
  },
  {
   "attachments": {},
   "cell_type": "markdown",
   "metadata": {},
   "source": [
    "### RMSProp"
   ]
  },
  {
   "cell_type": "code",
   "execution_count": 99,
   "metadata": {},
   "outputs": [],
   "source": [
    "class rmsprop():\n",
    "    \n",
    "    def __init__(self):\n",
    "        pass\n",
    "    \n",
    "    def update_rmsprop_params(self,eta,beta,epsilon):\n",
    "        grad_w = self.params.grad_w\n",
    "        grad_b = self.params.grad_b\n",
    "        W = self.params.W\n",
    "        b = self.params.b\n",
    "        u_W = self.u_params.W\n",
    "        u_b = self.u_params.b\n",
    "        N = len(W)\n",
    "        for i in range(N):\n",
    "            u_W[i] = beta*u_W[i] + (1-beta)*np.multiply(grad_w[i],grad_w[i])\n",
    "            u_b[i] = beta*u_b[i] + (1-beta)*np.multiply(grad_b[i],grad_b[i])\n",
    "            W[i] = W[i] - (eta*grad_w[i]/(np.sqrt(u_W[i]+epsilon)))\n",
    "            b[i] = b[i] - (eta*grad_b[i]/(np.sqrt(u_b[i]+epsilon)))\n"
   ]
  },
  {
   "attachments": {},
   "cell_type": "markdown",
   "metadata": {},
   "source": [
    "### Adam"
   ]
  },
  {
   "cell_type": "code",
   "execution_count": 100,
   "metadata": {},
   "outputs": [],
   "source": [
    "class adam():\n",
    "    \n",
    "    def __init__(self):\n",
    "        pass\n",
    "    \n",
    "    def update_adam_params(self,eta,beta1,beta2,epsilon):\n",
    "        grad_w = self.params.grad_w\n",
    "        grad_b = self.params.grad_b\n",
    "        W = self.params.W\n",
    "        b = self.params.b\n",
    "        u_W = self.u_params.W\n",
    "        u_b = self.u_params.b\n",
    "        m_W = self.m_params.W\n",
    "        m_b = self.m_params.b\n",
    "        N = len(W)\n",
    "        for i in range(N):\n",
    "            m_W[i] = beta1*m_W[i] + (1-beta1)*grad_w[i]\n",
    "            u_W[i] = beta2*u_W[i] + (1-beta2)*np.square(grad_w[i])\n",
    "            m_hat_W = m_W[i]/(1.0-np.power(beta1,i+1))\n",
    "            u_hat_W = u_W[i]/(1.0-np.power(beta2,i+1))\n",
    "            W[i] = W[i] - (eta/(np.sqrt(u_hat_W)+epsilon))*m_hat_W\n",
    "            \n",
    "            m_b[i] = beta1*m_b[i] + (1-beta1)*grad_b[i]\n",
    "            u_b[i] = beta2*u_b[i] + (1-beta2)*np.square(grad_b[i])\n",
    "            m_hat_b = m_b[i]/(1.0-np.power(beta1,i+1))\n",
    "            u_hat_b = u_b[i]/(1.0-np.power(beta2,i+1))\n",
    "            b[i] = b[i] - (eta/(np.sqrt(u_hat_b)+epsilon))*m_hat_b\n"
   ]
  },
  {
   "attachments": {},
   "cell_type": "markdown",
   "metadata": {},
   "source": [
    "### NAdam"
   ]
  },
  {
   "cell_type": "code",
   "execution_count": 101,
   "metadata": {},
   "outputs": [],
   "source": [
    "class nadam():\n",
    "    \n",
    "    def __init__(self):\n",
    "        pass\n",
    "    \n",
    "    def update_nadam_params(self,eta,beta,beta1,beta2,epsilon,X,Y):\n",
    "        W = self.params.W\n",
    "        b = self.params.b\n",
    "        u_W = self.u_params.W\n",
    "        u_b = self.u_params.b\n",
    "        m_W = self.m_params.W\n",
    "        m_b = self.m_params.b\n",
    "        g_W = self.lookahead_params.W\n",
    "        g_b = self.lookahead_params.b\n",
    "        N = len(W)\n",
    "        \n",
    "        self.params.ForwardPropagation(X)\n",
    "        self.params.BackPropagation(X,Y)\n",
    "        \n",
    "        grad_w = self.params.grad_w\n",
    "        grad_b = self.params.grad_b\n",
    "        \n",
    "        for i in range(N):\n",
    "            g_W[i] = grad_w[i]\n",
    "            g_b[i] = grad_b[i]\n",
    "            \n",
    "        for i in range(N):\n",
    "            m_W[i] = beta1*m_W[i] + g_W[i]\n",
    "            m_b[i] = beta1*m_b[i] + g_b[i]\n",
    "            \n",
    "            u_W[i] = beta2*u_W[i] + (1-beta2)*np.square(grad_w[i])\n",
    "            u_b[i] = beta2*u_b[i] + (1-beta2)*np.square(grad_b[i])\n",
    "            \n",
    "            m_hat_W = (beta1*m_W[i] + g_W[i])/(1-np.power(beta1,i+1))\n",
    "            m_hat_b = (beta1*m_b[i] + g_b[i])/(1-np.power(beta1,i+1))\n",
    "            u_hat_W = u_W[i]/(1-np.power(beta2,i+1))\n",
    "            u_hat_b = u_b[i]/(1-np.power(beta2,i+1))\n",
    "            \n",
    "            W[i] = W[i] - (eta*m_hat_W/(np.sqrt(u_hat_W)+epsilon))\n",
    "            b[i] = b[i] - (eta*m_hat_b/(np.sqrt(u_hat_b)+epsilon))\n",
    "        "
   ]
  },
  {
   "attachments": {},
   "cell_type": "markdown",
   "metadata": {},
   "source": [
    "### Insert Your optimizer here"
   ]
  },
  {
   "cell_type": "code",
   "execution_count": 102,
   "metadata": {},
   "outputs": [],
   "source": [
    "class optimizer_name():\n",
    "    '''\n",
    "        Refer to the above optimizers for better understanding on how to use this class\n",
    "    '''\n",
    "    def __init__(self):\n",
    "        pass\n",
    "    \n",
    "    def update_optimizer_name_params(self,):\n",
    "        '''\n",
    "            Add your code to update parameters\n",
    "        '''\n",
    "        pass"
   ]
  },
  {
   "attachments": {},
   "cell_type": "markdown",
   "metadata": {},
   "source": [
    "### Feedforward Neural Network"
   ]
  },
  {
   "cell_type": "code",
   "execution_count": 103,
   "metadata": {},
   "outputs": [],
   "source": [
    "class NeuralNet:\n",
    "    '''\n",
    "        weight_initializers : dictionary with random , xavier\n",
    "        weight_initializer : function\n",
    "        activation_funtions : dictionary with sigmoid, tanh, relu\n",
    "        der_activation_functions : dictionary with derivatives of the above\n",
    "        optimizer_funtions : dictionary with sgd, momentum, nesterov, rmsprop, adam, nadam}\n",
    "        activation : string\n",
    "        opitmizer : string\n",
    "        learning_rate : int\n",
    "        batch_size : int\n",
    "        num_epochs : int\n",
    "        num_features : dimension of X\n",
    "        num_hidden_layers : int, number of hidden layers\n",
    "        output_layer_dim : int\n",
    "        hidden_layer_dims : np.array with num_neurons in all hidden layer \n",
    "        weight_Decay : L2 regularisation\n",
    "        X_train : Training Data (n,d)\n",
    "        Y_train : Training Data (n,)\n",
    "        Xv : Validation Data (n,d)\n",
    "        Yv : Validation Data (n,)\n",
    "        hidden_layers : np.array of objects to class hidden_layer dimensions = num_hidden_layers\n",
    "        output_layer : object to hidden_layer class\n",
    "        params : It is a object of class parameter which has the weights and biases of the neural network\n",
    "        optimizer_object : object to the optimizer class, initialised in the initialize_neuralnet funciton\n",
    "        beta : momentum,neterov,rmsprop,nadam\n",
    "        beta1 : adam,nadam\n",
    "        beta2 : adam,nadam\n",
    "        epsilon : rmsprop,adam,nadam\n",
    "    '''\n",
    "    def __init__(self,\n",
    "                 num_features,\n",
    "                 weight_initializer,\n",
    "                 num_hidden_layers,\n",
    "                 hidden_layer_dims,\n",
    "                 optimizer,\n",
    "                 learning_rate,\n",
    "                 activation,\n",
    "                 X_train,\n",
    "                 Y_train,\n",
    "                 Xv,\n",
    "                 Yv,\n",
    "                 weight_decay,\n",
    "                 output_layer_dim,\n",
    "                 batch_size,\n",
    "                 num_epochs,\n",
    "                 loss = 'cross_entropy',\n",
    "                 output_activation = softmax,\n",
    "                 der_output_activation = der_softmax,\n",
    "                 beta=0.9,\n",
    "                 epsilon=1e-8,\n",
    "                 beta1=0.9,\n",
    "                 beta2=0.999):\n",
    "        self.weight_initializers = {\"random\": self.random_initialization, \"xavier\": self.xavier_intialization}\n",
    "        self.weight_initializer = self.weight_initializers[weight_initializer]\n",
    "        self.activation_functions = {\"sigmoid\": sigmoid, \"tanh\": tanh, \"ReLU\": relu}\n",
    "        self.der_activation_functions = {\"sigmoid\": der_sigmoid, \"tanh\": der_tanh, \"ReLU\": der_relu}\n",
    "        self.loss_functions = {'cross_entropy':self.Cross_Entropy_Loss,'mse' : self.Square_Error_Loss}\n",
    "        self.loss = self.loss_functions[loss]\n",
    "        '''\n",
    "            Add your optimizer function and class in the below dictionaries\n",
    "        '''\n",
    "        self.optimizer_functions = {\"sgd\": self.sgd, \"momentum\": self.momentum,\"nesterov\": self.nesterov, \"rmsprop\": self.rmsprop, \"adam\": self.adam, \"nadam\": self.nadam}\n",
    "        self.optimizer_classes = {\"sgd\": sgd, \"momentum\": momentum,\"nesterov\": nesterov, \"rmsprop\": rmsprop, \"adam\": adam, \"nadam\": nadam}\n",
    "        self.activation = self.activation_functions[activation]\n",
    "        self.optimizer = self.optimizer_functions[optimizer]\n",
    "        self.optimizer_class = self.optimizer_classes[optimizer]\n",
    "        self.der_activation = self.der_activation_functions[activation]\n",
    "        self.learning_rate = learning_rate\n",
    "        self.batch_size = batch_size\n",
    "        self.num_epochs = num_epochs\n",
    "        self.num_hidden_layers = num_hidden_layers\n",
    "        self.output_layer_dim = output_layer_dim\n",
    "        self.hidden_layer_dims = hidden_layer_dims\n",
    "        self.num_features = num_features\n",
    "        self.output_activation = output_activation\n",
    "        self.der_output_activation = der_output_activation\n",
    "        self.weight_decay = weight_decay\n",
    "        self.X_train = X_train\n",
    "        self.Y_train = Y_train\n",
    "        self.old_Y_train = Y_train\n",
    "        self.Xv = Xv\n",
    "        self.Yv = Yv\n",
    "        self.old_Yv = Yv\n",
    "        self.beta = beta\n",
    "        self.beta1 = beta1\n",
    "        self.beta2 = beta2\n",
    "        self.epsilon = epsilon\n",
    "        self.num_classes = self.output_layer_dim\n",
    "        # return self\n",
    "        \n",
    "    def Square_Error_Loss(self,Y_pred,Y_actual):\n",
    "        return np.mean((Y_pred-Y_actual)**2)\n",
    "    \n",
    "    def Cross_Entropy_Loss(self,Y_pred,Y_actual):\n",
    "        return (-1.0*np.sum(np.multiply(Y_actual+1,np.log(Y_pred+1))))/float(Y_pred.shape[0])\n",
    "    \n",
    "    def random_initialization(self, in_layer, out_layer):\n",
    "        return np.random.randn(in_layer, out_layer)\n",
    "\n",
    "    def xavier_intialization(self, in_layer, out_layer):\n",
    "        return np.random.randn(in_layer, out_layer)* np.sqrt(2 / (in_layer + out_layer))\n",
    "    \n",
    "    '''\n",
    "        The below optimizer functions are used to call the update_params methods in of their respective params\n",
    "    '''\n",
    "    \n",
    "    def sgd(self,X,Y):\n",
    "        sgd_obj = self.optimizer_object\n",
    "        parameters = self.params\n",
    "        parameters.ForwardPropagation(X)\n",
    "        parameters.BackPropagation(X,Y)\n",
    "        sgd_obj.update_sgd_params(self.learning_rate)\n",
    "        # for i in range(len(self.params.W)):\n",
    "        #     print(self.params.W[i])\n",
    "    \n",
    "    def momentum(self,X,Y):\n",
    "        momentum_obj = self.optimizer_object\n",
    "        parameters = self.params\n",
    "        parameters.ForwardPropagation(X)\n",
    "        parameters.BackPropagation(X,Y)\n",
    "        momentum_obj.updade_momentum_params(self.learning_rate,self.beta)\n",
    "\n",
    "    def nesterov(self,X,Y):\n",
    "        nesterov_obj = self.optimizer_object\n",
    "        nesterov_obj.update_nesterov_params(self.learning_rate,self.beta,X,Y)\n",
    "    \n",
    "    def rmsprop(self,X,Y):\n",
    "        rmsprop_obj = self.optimizer_object\n",
    "        parameters = self.params\n",
    "        parameters.ForwardPropagation(X)\n",
    "        parameters.BackPropagation(X,Y)\n",
    "        rmsprop_obj.update_rmsprop_params(self.learning_rate,self.beta,self.epsilon)\n",
    "    \n",
    "    def adam(self,X,Y):\n",
    "        adam_obj = self.optimizer_object\n",
    "        parameters = self.params\n",
    "        parameters.ForwardPropagation(X)\n",
    "        parameters.BackPropagation(X,Y)\n",
    "        adam_obj.update_adam_params(self.learning_rate,self.beta1,self.beta2,self.epsilon)\n",
    "    \n",
    "    def nadam(self,X,Y):\n",
    "        nadam_obj = self.optimizer_object\n",
    "        nadam_obj.update_nadam_params(self.learning_rate,self.beta,self.beta1,self.beta2,self.epsilon,X,Y)\n",
    "    \n",
    "    def optimzizer_name(self,X,Y):\n",
    "        '''\n",
    "            May implement forward and backpropagation here \n",
    "            Add code to create an object to your optimizer class\n",
    "            Then use this object to call your optimizer_update method \n",
    "        '''\n",
    "        pass\n",
    "    \n",
    "    def sanitize_Y(self):\n",
    "        \n",
    "        temp = np.zeros((self.num_classes,self.Y_train.shape[0]))\n",
    "        for i in range(self.Y_train.shape[0]) :\n",
    "            temp[int(self.Y_train[i])][i] = 1\n",
    "        self.Y_train = temp\n",
    "        \n",
    "        temp = np.zeros((self.num_classes,self.Yv.shape[0]))\n",
    "        for i in range(self.Yv.shape[0]) :\n",
    "            temp[int(self.Yv[i])][i] = 1\n",
    "        self.Yv = temp\n",
    "        \n",
    "    def initialize_NeuralNet(self):\n",
    "        self.sanitize_Y()\n",
    "        self.optimizer_object = self.optimizer_class()\n",
    "        self.params = self.initialize_parameters()\n",
    "        self.optimizer_object.params = self.params\n",
    "        self.optimizer_object.u_params = self.zero_initializer()\n",
    "        self.optimizer_object.m_params = self.zero_initializer()\n",
    "        self.optimizer_object.lookahead_params = self.zero_initializer()\n",
    "        '''\n",
    "            can add required optimizer params and \n",
    "            initialize them here \n",
    "        '''\n",
    "        # pass\n",
    "    \n",
    "    \n",
    "    def add_hidden(self,num_neurons,pos):\n",
    "        '''\n",
    "        This function can be used to insert a layer at any position\n",
    "        (0 indexing)\n",
    "        '''\n",
    "        self.hidden_layer_dims.insert(pos,num_neurons)\n",
    "        self.num_hidden_layers += 1\n",
    "        \n",
    "    def zero_initializer(self):\n",
    "        params = Parameters()\n",
    "        W = []\n",
    "        b = []\n",
    "        in_layer, out_layer = self.num_features,self.hidden_layer_dims[1]\n",
    "        for i in range(self.num_hidden_layers):\n",
    "            if  i == 0:\n",
    "                in_layer = self.num_features\n",
    "            else:\n",
    "                in_layer = self.hidden_layer_dims[i-1]\n",
    "                \n",
    "            if i == self.num_hidden_layers-1:\n",
    "                out_layer = self.output_layer_dim\n",
    "            else:\n",
    "                out_layer = self.hidden_layer_dims[i+1]\n",
    "            W.append(np.zeros(shape = (self.hidden_layer_dims[i],in_layer)))\n",
    "            b.append(np.zeros(shape = (self.hidden_layer_dims[i],1)))\n",
    "        W.append(np.zeros(shape = (self.num_classes,self.hidden_layer_dims[self.num_hidden_layers-1])))\n",
    "        b.append(np.zeros(shape=(self.num_classes,1)))\n",
    "        params.W = W\n",
    "        params.b = b\n",
    "        params.activation = self.activation\n",
    "        params.output_activation = self.output_activation\n",
    "        params.der_activation = self.der_activation\n",
    "        params.weight_decay = self.weight_decay\n",
    "        return params\n",
    "    \n",
    "    def initialize_parameters(self):\n",
    "        params = Parameters()\n",
    "        W = []\n",
    "        b = []\n",
    "        in_layer, out_layer = self.num_features,self.hidden_layer_dims[1]\n",
    "        for i in range(self.num_hidden_layers):\n",
    "            if  i == 0:\n",
    "                in_layer = self.num_features\n",
    "            else:\n",
    "                in_layer = self.hidden_layer_dims[i-1]\n",
    "                \n",
    "            if i == self.num_hidden_layers-1:\n",
    "                out_layer = self.output_layer_dim\n",
    "            else:\n",
    "                out_layer = self.hidden_layer_dims[i+1]\n",
    "            W.append(self.weight_initializer(self.hidden_layer_dims[i],in_layer))\n",
    "            b.append(np.zeros(shape=(self.hidden_layer_dims[i],1)))\n",
    "        W.append(self.weight_initializer(self.num_classes,self.hidden_layer_dims[self.num_hidden_layers-1]))\n",
    "        b.append(np.zeros(shape=(self.num_classes,1)))\n",
    "        params.W = W\n",
    "        params.b = b\n",
    "        params.activation = self.activation\n",
    "        params.output_activation = self.output_activation\n",
    "        params.der_activation = self.der_activation\n",
    "        params.weight_decay = self.weight_decay\n",
    "        return params\n",
    "    \n",
    "    def fit_NeuralNet(self):\n",
    "        self.initialize_NeuralNet()\n",
    "        for curr_epoch in range(self.num_epochs):\n",
    "            print(\"Epoch Number : \",curr_epoch+1)  \n",
    "            for i in range(0,self.X_train.shape[1],self.batch_size):\n",
    "                curr_batch = min(self.X_train.shape[1]-i,self.batch_size)\n",
    "                self.optimizer(self.X_train[:,i:i+curr_batch],self.Y_train[:,i:i+curr_batch])\n",
    "            train_acc,validation_acc,training_loss,validation_loss = self.accuracy_NeuralNet(self.old_Y_train,self.old_Yv)\n",
    "            print(\"train accuracy =\",train_acc,\", validation accuracy =\",validation_acc,\", training loss =\",training_loss,\", validation loss =\",validation_loss)\n",
    "        # pass\n",
    "    \n",
    "    def predict_NeuralNet(self,X):\n",
    "        self.params.ForwardPropagation(X)\n",
    "        Y_pred = np.argmax(self.params.H[len(self.params.H)-1],axis=0)\n",
    "        return Y_pred\n",
    "    \n",
    "    def accuracy_NeuralNet(self,Y_train,Yv):\n",
    "        Y_train_pred = self.predict_NeuralNet(self.X_train)\n",
    "        Yv_pred = self.predict_NeuralNet(self.Xv)\n",
    "        training_Loss = self.loss(Y_train_pred,self.old_Y_train)\n",
    "        validation_Loss = self.loss(Yv_pred,self.old_Yv)\n",
    "        return self.accuracy_score(Y_train_pred,Y_train),self.accuracy_score(Yv_pred,Yv),training_Loss,validation_Loss\n",
    "    \n",
    "    def accuracy_score(self, Y_pred, Y_train):\n",
    "        return np.sum(Y_pred == Y_train)/Y_train.shape[0]\n"
   ]
  },
  {
   "attachments": {},
   "cell_type": "markdown",
   "metadata": {},
   "source": [
    "### Model 1"
   ]
  },
  {
   "cell_type": "code",
   "execution_count": 72,
   "metadata": {},
   "outputs": [
    {
     "name": "stdout",
     "output_type": "stream",
     "text": [
      "Epoch Number :  1\n",
      "train accuracy = 0.9605185185185185 , validation accuracy = 0.9583333333333334 , training loss = -10.030493786309046 , validation loss = -9.977060403080598\n",
      "Epoch Number :  2\n",
      "train accuracy = 0.9708148148148148 , validation accuracy = 0.9595 , training loss = -10.017346992123601 , validation loss = -9.943505106775053\n",
      "Epoch Number :  3\n",
      "train accuracy = 0.9764814814814815 , validation accuracy = 0.9618333333333333 , training loss = -10.022624552069436 , validation loss = -9.944192198881955\n",
      "Epoch Number :  4\n",
      "train accuracy = 0.978462962962963 , validation accuracy = 0.9573333333333334 , training loss = -10.046955386242994 , validation loss = -9.949031844703434\n",
      "Epoch Number :  5\n"
     ]
    },
    {
     "name": "stderr",
     "output_type": "stream",
     "text": [
      "/tmp/ipykernel_16824/2428591566.py:21: RuntimeWarning: overflow encountered in exp\n",
      "  return (np.exp(x)/np.sum(np.exp(x),axis = 0))\n",
      "/tmp/ipykernel_16824/2428591566.py:21: RuntimeWarning: invalid value encountered in divide\n",
      "  return (np.exp(x)/np.sum(np.exp(x),axis = 0))\n"
     ]
    },
    {
     "name": "stdout",
     "output_type": "stream",
     "text": [
      "train accuracy = 0.9841851851851852 , validation accuracy = 0.9595 , training loss = -10.076995693361162 , validation loss = -9.987209038165327\n",
      "Test Accuracy : 0.9637\n"
     ]
    }
   ],
   "source": [
    "NUM_FEATURES = X_train.shape[0]\n",
    "WEIGHT_INITIALIZER = \"xavier\"\n",
    "NUM_HIDDEN_LAYERS = 5\n",
    "# HIDDEN_LAYER_DIMS = (128+np.arange(NUM_HIDDEN_LAYERS)).astype(int)\n",
    "HIDDEN_LAYER_DIMS = (128+np.zeros(NUM_HIDDEN_LAYERS)).astype(int)\n",
    "OPTIMIZER = \"adam\"\n",
    "LEARNING_RATE = 0.001\n",
    "ACTIVATION = \"ReLU\"\n",
    "OUTPUT_LAYER_DIM = num_classes\n",
    "BATCH_SIZE = 128\n",
    "EPOCHS = 5\n",
    "WEIGHT_DECAY = 0.0005\n",
    "\n",
    "N = NeuralNet(num_features = NUM_FEATURES,\n",
    "                weight_initializer = WEIGHT_INITIALIZER,\n",
    "                num_hidden_layers = NUM_HIDDEN_LAYERS,\n",
    "                hidden_layer_dims = HIDDEN_LAYER_DIMS,\n",
    "                optimizer = OPTIMIZER,\n",
    "                learning_rate = LEARNING_RATE,\n",
    "                activation = ACTIVATION,\n",
    "                X_train = X_train,\n",
    "                Y_train = Y_train,\n",
    "                Xv = Xv,\n",
    "                Yv = Yv,\n",
    "                # loss = 'mse',\n",
    "                weight_decay=WEIGHT_DECAY,\n",
    "                output_layer_dim = OUTPUT_LAYER_DIM,\n",
    "                batch_size = BATCH_SIZE,\n",
    "                num_epochs = EPOCHS)\n",
    "N.fit_NeuralNet()\n",
    "Y_pred_test = N.predict_NeuralNet(X_test)\n",
    "print(\"Test Accuracy :\",N.accuracy_score(Y_pred_test,Y_test))"
   ]
  },
  {
   "cell_type": "code",
   "execution_count": 73,
   "metadata": {},
   "outputs": [
    {
     "name": "stderr",
     "output_type": "stream",
     "text": [
      "/tmp/ipykernel_16824/2428591566.py:21: RuntimeWarning: overflow encountered in exp\n",
      "  return (np.exp(x)/np.sum(np.exp(x),axis = 0))\n",
      "/tmp/ipykernel_16824/2428591566.py:21: RuntimeWarning: invalid value encountered in divide\n",
      "  return (np.exp(x)/np.sum(np.exp(x),axis = 0))\n"
     ]
    },
    {
     "data": {
      "image/png": "[encoded data removed]",
      "text/plain": [
       "<Figure size 800x600 with 2 Axes>"
      ]
     },
     "metadata": {},
     "output_type": "display_data"
    }
   ],
   "source": [
    "class_names = [\"0\", \"1\", \"2\", \"3\", \"4\", \"5\", \"6\", \"7\", \"8\", \"9\"]\n",
    "Y_pred_test = N.predict_NeuralNet(X_test)\n",
    "confusion_matrix = confusion_matrix(Y_test,Y_pred_test)\n",
    "cm_display = ConfusionMatrixDisplay(confusion_matrix = confusion_matrix, display_labels = class_names  )\n",
    "cm_display.plot()\n",
    "plt.rcParams['figure.figsize'] = [8,6]\n",
    "plt.show() "
   ]
  },
  {
   "attachments": {},
   "cell_type": "markdown",
   "metadata": {},
   "source": [
    "### Model 2"
   ]
  },
  {
   "cell_type": "code",
   "execution_count": 88,
   "metadata": {},
   "outputs": [
    {
     "name": "stdout",
     "output_type": "stream",
     "text": [
      "Epoch Number :  1\n",
      "train accuracy = 0.9572222222222222 , validation accuracy = 0.9488333333333333 , training loss = -10.066294460675824 , validation loss = -10.018069146359043\n",
      "Epoch Number :  2\n",
      "train accuracy = 0.9675370370370371 , validation accuracy = 0.9576666666666667 , training loss = -10.04250263001671 , validation loss = -9.988019066219463\n",
      "Epoch Number :  3\n",
      "train accuracy = 0.9725370370370371 , validation accuracy = 0.9595 , training loss = -10.045888798415023 , validation loss = -9.96587467031262\n",
      "Epoch Number :  4\n",
      "train accuracy = 0.9752592592592593 , validation accuracy = 0.9583333333333334 , training loss = -10.04642275196206 , validation loss = -9.935943824534515\n",
      "Epoch Number :  5\n",
      "train accuracy = 0.9641111111111111 , validation accuracy = 0.9455 , training loss = -9.995226010562297 , validation loss = -9.894444283659276\n",
      "Test Accuracy : 0.946\n"
     ]
    }
   ],
   "source": [
    "NUM_FEATURES = X_train.shape[0]\n",
    "WEIGHT_INITIALIZER = \"xavier\"\n",
    "NUM_HIDDEN_LAYERS = 5\n",
    "# HIDDEN_LAYER_DIMS = (128+np.arange(NUM_HIDDEN_LAYERS)).astype(int)\n",
    "HIDDEN_LAYER_DIMS = (128+np.zeros(NUM_HIDDEN_LAYERS)).astype(int)\n",
    "OPTIMIZER = \"nadam\"\n",
    "LEARNING_RATE = 0.001\n",
    "ACTIVATION = \"ReLU\"\n",
    "OUTPUT_LAYER_DIM = num_classes\n",
    "BATCH_SIZE = 128\n",
    "EPOCHS = 5\n",
    "WEIGHT_DECAY = 0.0005\n",
    "\n",
    "N = NeuralNet(num_features = NUM_FEATURES,\n",
    "                weight_initializer = WEIGHT_INITIALIZER,\n",
    "                num_hidden_layers = NUM_HIDDEN_LAYERS,\n",
    "                hidden_layer_dims = HIDDEN_LAYER_DIMS,\n",
    "                optimizer = OPTIMIZER,\n",
    "                learning_rate = LEARNING_RATE,\n",
    "                activation = ACTIVATION,\n",
    "                X_train = X_train,\n",
    "                Y_train = Y_train,\n",
    "                Xv = Xv,\n",
    "                Yv = Yv,\n",
    "                # loss = 'mse',\n",
    "                weight_decay=WEIGHT_DECAY,\n",
    "                output_layer_dim = OUTPUT_LAYER_DIM,\n",
    "                batch_size = BATCH_SIZE,\n",
    "                num_epochs = EPOCHS)\n",
    "N.fit_NeuralNet()\n",
    "Y_pred_test = N.predict_NeuralNet(X_test)\n",
    "print(\"Test Accuracy :\",N.accuracy_score(Y_pred_test,Y_test))\n"
   ]
  },
  {
   "cell_type": "code",
   "execution_count": 89,
   "metadata": {},
   "outputs": [
    {
     "data": {
      "image/png": "[encoded data removed]",
      "text/plain": [
       "<Figure size 800x600 with 2 Axes>"
      ]
     },
     "metadata": {},
     "output_type": "display_data"
    }
   ],
   "source": [
    "class_names = [\"0\", \"1\", \"2\", \"3\", \"4\", \"5\", \"6\", \"7\", \"8\", \"9\"]\n",
    "Y_pred_test = N.predict_NeuralNet(X_test)\n",
    "confusion_matrix = confusion_matrix(Y_test,Y_pred_test)\n",
    "cm_display = ConfusionMatrixDisplay(confusion_matrix = confusion_matrix, display_labels = class_names  )\n",
    "cm_display.plot()\n",
    "plt.rcParams['figure.figsize'] = [8,6]\n",
    "plt.show() "
   ]
  },
  {
   "attachments": {},
   "cell_type": "markdown",
   "metadata": {},
   "source": [
    "### Model 3"
   ]
  },
  {
   "cell_type": "code",
   "execution_count": 104,
   "metadata": {},
   "outputs": [
    {
     "name": "stdout",
     "output_type": "stream",
     "text": [
      "Epoch Number :  1\n",
      "train accuracy = 0.9611851851851851 , validation accuracy = 0.952 , training loss = -10.05843008058433 , validation loss = -10.00387241245345\n",
      "Epoch Number :  2\n",
      "train accuracy = 0.972 , validation accuracy = 0.9621666666666666 , training loss = -10.044878871127832 , validation loss = -9.985459854629276\n",
      "Epoch Number :  3\n",
      "train accuracy = 0.9764444444444444 , validation accuracy = 0.9671666666666666 , training loss = -10.05045954224328 , validation loss = -9.98919291060186\n",
      "Test Accuracy : 0.9685\n"
     ]
    }
   ],
   "source": [
    "NUM_FEATURES = X_train.shape[0]\n",
    "WEIGHT_INITIALIZER = \"xavier\"\n",
    "NUM_HIDDEN_LAYERS = 3\n",
    "# HIDDEN_LAYER_DIMS = (128+np.arange(NUM_HIDDEN_LAYERS)).astype(int)\n",
    "HIDDEN_LAYER_DIMS = (128+np.zeros(NUM_HIDDEN_LAYERS)).astype(int)\n",
    "OPTIMIZER = \"nesterov\"\n",
    "LEARNING_RATE = 0.001\n",
    "ACTIVATION = \"ReLU\"\n",
    "OUTPUT_LAYER_DIM = num_classes\n",
    "BATCH_SIZE = 128\n",
    "EPOCHS = 3\n",
    "WEIGHT_DECAY = 0.0005\n",
    "\n",
    "N = NeuralNet(num_features = NUM_FEATURES,\n",
    "                weight_initializer = WEIGHT_INITIALIZER,\n",
    "                num_hidden_layers = NUM_HIDDEN_LAYERS,\n",
    "                hidden_layer_dims = HIDDEN_LAYER_DIMS,\n",
    "                optimizer = OPTIMIZER,\n",
    "                learning_rate = LEARNING_RATE,\n",
    "                activation = ACTIVATION,\n",
    "                X_train = X_train,\n",
    "                Y_train = Y_train,\n",
    "                Xv = Xv,\n",
    "                Yv = Yv,\n",
    "                # loss = 'mse',\n",
    "                weight_decay=WEIGHT_DECAY,\n",
    "                output_layer_dim = OUTPUT_LAYER_DIM,\n",
    "                batch_size = BATCH_SIZE,\n",
    "                num_epochs = EPOCHS)\n",
    "N.fit_NeuralNet()\n",
    "Y_pred_test = N.predict_NeuralNet(X_test)\n",
    "print(\"Test Accuracy :\",N.accuracy_score(Y_pred_test,Y_test))"
   ]
  },
  {
   "cell_type": "code",
   "execution_count": 105,
   "metadata": {},
   "outputs": [
    {
     "data": {
      "image/png": "[encoded data removed]",
      "text/plain": [
       "<Figure size 800x600 with 2 Axes>"
      ]
     },
     "metadata": {},
     "output_type": "display_data"
    }
   ],
   "source": [
    "class_names = [\"0\", \"1\", \"2\", \"3\", \"4\", \"5\", \"6\", \"7\", \"8\", \"9\"]\n",
    "Y_pred_test = N.predict_NeuralNet(X_test)\n",
    "confusion_matrix = confusion_matrix(Y_test,Y_pred_test)\n",
    "cm_display = ConfusionMatrixDisplay(confusion_matrix = confusion_matrix, display_labels = class_names  )\n",
    "cm_display.plot()\n",
    "plt.rcParams['figure.figsize'] = [8,6]\n",
    "plt.show() "
   ]
  }
 ],
 "metadata": {
  "kernelspec": {
   "display_name": "Python 3",
   "language": "python",
   "name": "python3"
  },
  "language_info": {
   "codemirror_mode": {
    "name": "ipython",
    "version": 3
   },
   "file_extension": ".py",
   "mimetype": "text/x-python",
   "name": "python",
   "nbconvert_exporter": "python",
   "pygments_lexer": "ipython3",
   "version": "3.8.10"
  },
  "vscode": {
   "interpreter": {
    "hash": "e7370f93d1d0cde622a1f8e1c04877d8463912d04d973331ad4851f04de6915a"
   }
  }
 },
 "nbformat": 4,
 "nbformat_minor": 2
}
